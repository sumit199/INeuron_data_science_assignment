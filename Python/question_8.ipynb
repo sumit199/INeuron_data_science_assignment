{
 "cells": [
  {
   "cell_type": "code",
   "execution_count": 2,
   "metadata": {},
   "outputs": [],
   "source": [
    "import pandas as pd"
   ]
  },
  {
   "cell_type": "code",
   "execution_count": 3,
   "metadata": {},
   "outputs": [],
   "source": [
    "df = pd.read_csv(\"G:\\INeuron_data_science_assignment\\maze.csv\")"
   ]
  },
  {
   "cell_type": "code",
   "execution_count": 4,
   "metadata": {},
   "outputs": [
    {
     "data": {
      "text/html": [
       "<div>\n",
       "<style scoped>\n",
       "    .dataframe tbody tr th:only-of-type {\n",
       "        vertical-align: middle;\n",
       "    }\n",
       "\n",
       "    .dataframe tbody tr th {\n",
       "        vertical-align: top;\n",
       "    }\n",
       "\n",
       "    .dataframe thead th {\n",
       "        text-align: right;\n",
       "    }\n",
       "</style>\n",
       "<table border=\"1\" class=\"dataframe\">\n",
       "  <thead>\n",
       "    <tr style=\"text-align: right;\">\n",
       "      <th></th>\n",
       "      <th>Unnamed: 0</th>\n",
       "      <th>id</th>\n",
       "      <th>url</th>\n",
       "      <th>name</th>\n",
       "      <th>season</th>\n",
       "      <th>number</th>\n",
       "      <th>type</th>\n",
       "      <th>airdate</th>\n",
       "      <th>airtime</th>\n",
       "      <th>runtime</th>\n",
       "      <th>summary</th>\n",
       "      <th>average_rating</th>\n",
       "      <th>medium_image_link</th>\n",
       "      <th>original_image_link</th>\n",
       "    </tr>\n",
       "  </thead>\n",
       "  <tbody>\n",
       "    <tr>\n",
       "      <th>0</th>\n",
       "      <td>0</td>\n",
       "      <td>869671</td>\n",
       "      <td>https://www.tvmaze.com/episodes/869671/westwor...</td>\n",
       "      <td>The Original</td>\n",
       "      <td>1</td>\n",
       "      <td>1</td>\n",
       "      <td>regular</td>\n",
       "      <td>2016-10-02</td>\n",
       "      <td>09:00 PM</td>\n",
       "      <td>68.0</td>\n",
       "      <td>A woman named Dolores is a free spirit in the ...</td>\n",
       "      <td>8.0</td>\n",
       "      <td>https://static.tvmaze.com/uploads/images/mediu...</td>\n",
       "      <td>https://static.tvmaze.com/uploads/images/origi...</td>\n",
       "    </tr>\n",
       "    <tr>\n",
       "      <th>1</th>\n",
       "      <td>1</td>\n",
       "      <td>911201</td>\n",
       "      <td>https://www.tvmaze.com/episodes/911201/westwor...</td>\n",
       "      <td>Chestnut</td>\n",
       "      <td>1</td>\n",
       "      <td>2</td>\n",
       "      <td>regular</td>\n",
       "      <td>2016-10-09</td>\n",
       "      <td>09:00 PM</td>\n",
       "      <td>60.0</td>\n",
       "      <td>Bernard suspects that someone is sabotaging th...</td>\n",
       "      <td>7.7</td>\n",
       "      <td>https://static.tvmaze.com/uploads/images/mediu...</td>\n",
       "      <td>https://static.tvmaze.com/uploads/images/origi...</td>\n",
       "    </tr>\n",
       "    <tr>\n",
       "      <th>2</th>\n",
       "      <td>2</td>\n",
       "      <td>1214222</td>\n",
       "      <td>https://www.tvmaze.com/episodes/1214222/westwo...</td>\n",
       "      <td>Journey Into Night</td>\n",
       "      <td>2</td>\n",
       "      <td>1</td>\n",
       "      <td>regular</td>\n",
       "      <td>2018-04-22</td>\n",
       "      <td>09:00 PM</td>\n",
       "      <td>74.0</td>\n",
       "      <td>In the aftermath of the host rebellion, the re...</td>\n",
       "      <td>7.8</td>\n",
       "      <td>https://static.tvmaze.com/uploads/images/mediu...</td>\n",
       "      <td>https://static.tvmaze.com/uploads/images/origi...</td>\n",
       "    </tr>\n",
       "    <tr>\n",
       "      <th>3</th>\n",
       "      <td>3</td>\n",
       "      <td>1440915</td>\n",
       "      <td>https://www.tvmaze.com/episodes/1440915/westwo...</td>\n",
       "      <td>Reunion</td>\n",
       "      <td>2</td>\n",
       "      <td>2</td>\n",
       "      <td>regular</td>\n",
       "      <td>2018-04-29</td>\n",
       "      <td>09:00 PM</td>\n",
       "      <td>60.0</td>\n",
       "      <td>Dolores looks for allies sympathetic to her ca...</td>\n",
       "      <td>7.7</td>\n",
       "      <td>https://static.tvmaze.com/uploads/images/mediu...</td>\n",
       "      <td>https://static.tvmaze.com/uploads/images/origi...</td>\n",
       "    </tr>\n",
       "    <tr>\n",
       "      <th>4</th>\n",
       "      <td>4</td>\n",
       "      <td>1440916</td>\n",
       "      <td>https://www.tvmaze.com/episodes/1440916/westwo...</td>\n",
       "      <td>Virtù e Fortuna</td>\n",
       "      <td>2</td>\n",
       "      <td>3</td>\n",
       "      <td>regular</td>\n",
       "      <td>2018-05-06</td>\n",
       "      <td>09:00 PM</td>\n",
       "      <td>60.0</td>\n",
       "      <td>While Delores makes a deal with the Confederad...</td>\n",
       "      <td>7.7</td>\n",
       "      <td>https://static.tvmaze.com/uploads/images/mediu...</td>\n",
       "      <td>https://static.tvmaze.com/uploads/images/origi...</td>\n",
       "    </tr>\n",
       "  </tbody>\n",
       "</table>\n",
       "</div>"
      ],
      "text/plain": [
       "   Unnamed: 0       id                                                url  \\\n",
       "0           0   869671  https://www.tvmaze.com/episodes/869671/westwor...   \n",
       "1           1   911201  https://www.tvmaze.com/episodes/911201/westwor...   \n",
       "2           2  1214222  https://www.tvmaze.com/episodes/1214222/westwo...   \n",
       "3           3  1440915  https://www.tvmaze.com/episodes/1440915/westwo...   \n",
       "4           4  1440916  https://www.tvmaze.com/episodes/1440916/westwo...   \n",
       "\n",
       "                 name  season  number     type     airdate   airtime  runtime  \\\n",
       "0        The Original       1       1  regular  2016-10-02  09:00 PM     68.0   \n",
       "1            Chestnut       1       2  regular  2016-10-09  09:00 PM     60.0   \n",
       "2  Journey Into Night       2       1  regular  2018-04-22  09:00 PM     74.0   \n",
       "3             Reunion       2       2  regular  2018-04-29  09:00 PM     60.0   \n",
       "4     Virtù e Fortuna       2       3  regular  2018-05-06  09:00 PM     60.0   \n",
       "\n",
       "                                             summary  average_rating  \\\n",
       "0  A woman named Dolores is a free spirit in the ...             8.0   \n",
       "1  Bernard suspects that someone is sabotaging th...             7.7   \n",
       "2  In the aftermath of the host rebellion, the re...             7.8   \n",
       "3  Dolores looks for allies sympathetic to her ca...             7.7   \n",
       "4  While Delores makes a deal with the Confederad...             7.7   \n",
       "\n",
       "                                   medium_image_link  \\\n",
       "0  https://static.tvmaze.com/uploads/images/mediu...   \n",
       "1  https://static.tvmaze.com/uploads/images/mediu...   \n",
       "2  https://static.tvmaze.com/uploads/images/mediu...   \n",
       "3  https://static.tvmaze.com/uploads/images/mediu...   \n",
       "4  https://static.tvmaze.com/uploads/images/mediu...   \n",
       "\n",
       "                                 original_image_link  \n",
       "0  https://static.tvmaze.com/uploads/images/origi...  \n",
       "1  https://static.tvmaze.com/uploads/images/origi...  \n",
       "2  https://static.tvmaze.com/uploads/images/origi...  \n",
       "3  https://static.tvmaze.com/uploads/images/origi...  \n",
       "4  https://static.tvmaze.com/uploads/images/origi...  "
      ]
     },
     "execution_count": 4,
     "metadata": {},
     "output_type": "execute_result"
    }
   ],
   "source": [
    "df.head()"
   ]
  },
  {
   "cell_type": "code",
   "execution_count": 5,
   "metadata": {},
   "outputs": [
    {
     "name": "stdout",
     "output_type": "stream",
     "text": [
      "<class 'pandas.core.frame.DataFrame'>\n",
      "RangeIndex: 36 entries, 0 to 35\n",
      "Data columns (total 14 columns):\n",
      " #   Column               Non-Null Count  Dtype  \n",
      "---  ------               --------------  -----  \n",
      " 0   Unnamed: 0           36 non-null     int64  \n",
      " 1   id                   36 non-null     int64  \n",
      " 2   url                  36 non-null     object \n",
      " 3   name                 36 non-null     object \n",
      " 4   season               36 non-null     int64  \n",
      " 5   number               36 non-null     int64  \n",
      " 6   type                 36 non-null     object \n",
      " 7   airdate              36 non-null     object \n",
      " 8   airtime              36 non-null     object \n",
      " 9   runtime              36 non-null     float64\n",
      " 10  summary              36 non-null     object \n",
      " 11  average_rating       36 non-null     float64\n",
      " 12  medium_image_link    36 non-null     object \n",
      " 13  original_image_link  36 non-null     object \n",
      "dtypes: float64(2), int64(4), object(8)\n",
      "memory usage: 4.1+ KB\n"
     ]
    }
   ],
   "source": [
    "df.info()"
   ]
  },
  {
   "cell_type": "code",
   "execution_count": 6,
   "metadata": {},
   "outputs": [],
   "source": [
    "df.drop('Unnamed: 0', axis=1,inplace=True)"
   ]
  },
  {
   "cell_type": "code",
   "execution_count": 7,
   "metadata": {},
   "outputs": [],
   "source": [
    "df['airdate'] = pd.to_datetime(df['airdate'])"
   ]
  },
  {
   "attachments": {},
   "cell_type": "markdown",
   "metadata": {},
   "source": [
    "- Get all the overall ratings for each season and using plots compare the ratings for all the seasons, like season 1 ratings, season 2, and so on"
   ]
  },
  {
   "cell_type": "code",
   "execution_count": 8,
   "metadata": {},
   "outputs": [],
   "source": [
    "df1 =df.groupby(['season'])['average_rating'].mean()"
   ]
  },
  {
   "cell_type": "code",
   "execution_count": 10,
   "metadata": {},
   "outputs": [
    {
     "data": {
      "text/plain": [
       "<Axes: xlabel='season'>"
      ]
     },
     "execution_count": 10,
     "metadata": {},
     "output_type": "execute_result"
    },
    {
     "data": {
      "image/png": "[encoded data removed]",
      "text/plain": [
       "<Figure size 640x480 with 1 Axes>"
      ]
     },
     "metadata": {},
     "output_type": "display_data"
    }
   ],
   "source": [
    "import matplotlib.pyplot as pt\n",
    "%matplotlib inline\n",
    "\n",
    "df1.plot.bar()"
   ]
  },
  {
   "attachments": {},
   "cell_type": "markdown",
   "metadata": {},
   "source": [
    "- Get all the episode names that aired before May 2019"
   ]
  },
  {
   "cell_type": "code",
   "execution_count": 159,
   "metadata": {},
   "outputs": [
    {
     "data": {
      "text/plain": [
       "0                  The Original\n",
       "1                      Chestnut\n",
       "2            Journey Into Night\n",
       "3                       Reunion\n",
       "4               Virtù e Fortuna\n",
       "5      The Riddle of the Sphinx\n",
       "6                  Akane No Mai\n",
       "7                   Phase Space\n",
       "8                  Les Écorchés\n",
       "9                       Kiksuya\n",
       "10              Vanishing Point\n",
       "11                The Passenger\n",
       "12                    The Stray\n",
       "23            Dissonance Theory\n",
       "30                  Contrapasso\n",
       "31                The Adversary\n",
       "32                Trompe L'Oeil\n",
       "33                  Trace Decay\n",
       "34    The Well-Tempered Clavier\n",
       "35           The Bicameral Mind\n",
       "Name: name, dtype: object"
      ]
     },
     "execution_count": 159,
     "metadata": {},
     "output_type": "execute_result"
    }
   ],
   "source": [
    "import datetime\n",
    "date_before = datetime.datetime(2019, 5, 1)\n",
    "df[df['airdate'] < date_before]['name']"
   ]
  },
  {
   "attachments": {},
   "cell_type": "markdown",
   "metadata": {},
   "source": [
    "- Get the episode name from each season with the highest and lowest rating"
   ]
  },
  {
   "cell_type": "code",
   "execution_count": 139,
   "metadata": {},
   "outputs": [
    {
     "data": {
      "text/html": [
       "<div>\n",
       "<style scoped>\n",
       "    .dataframe tbody tr th:only-of-type {\n",
       "        vertical-align: middle;\n",
       "    }\n",
       "\n",
       "    .dataframe tbody tr th {\n",
       "        vertical-align: top;\n",
       "    }\n",
       "\n",
       "    .dataframe thead tr th {\n",
       "        text-align: left;\n",
       "    }\n",
       "\n",
       "    .dataframe thead tr:last-of-type th {\n",
       "        text-align: right;\n",
       "    }\n",
       "</style>\n",
       "<table border=\"1\" class=\"dataframe\">\n",
       "  <thead>\n",
       "    <tr>\n",
       "      <th></th>\n",
       "      <th colspan=\"2\" halign=\"left\">name</th>\n",
       "      <th colspan=\"2\" halign=\"left\">average_rating</th>\n",
       "    </tr>\n",
       "    <tr>\n",
       "      <th></th>\n",
       "      <th>min</th>\n",
       "      <th>max</th>\n",
       "      <th>min</th>\n",
       "      <th>max</th>\n",
       "    </tr>\n",
       "    <tr>\n",
       "      <th>season</th>\n",
       "      <th></th>\n",
       "      <th></th>\n",
       "      <th></th>\n",
       "      <th></th>\n",
       "    </tr>\n",
       "  </thead>\n",
       "  <tbody>\n",
       "    <tr>\n",
       "      <th>1</th>\n",
       "      <td>Chestnut</td>\n",
       "      <td>Trompe L'Oeil</td>\n",
       "      <td>7.6</td>\n",
       "      <td>8.7</td>\n",
       "    </tr>\n",
       "    <tr>\n",
       "      <th>2</th>\n",
       "      <td>Akane No Mai</td>\n",
       "      <td>Virtù e Fortuna</td>\n",
       "      <td>7.6</td>\n",
       "      <td>8.7</td>\n",
       "    </tr>\n",
       "    <tr>\n",
       "      <th>3</th>\n",
       "      <td>Crisis Theory</td>\n",
       "      <td>The Winter Line</td>\n",
       "      <td>7.5</td>\n",
       "      <td>8.0</td>\n",
       "    </tr>\n",
       "    <tr>\n",
       "      <th>4</th>\n",
       "      <td>Années Folles</td>\n",
       "      <td>Zhuangzi</td>\n",
       "      <td>7.1</td>\n",
       "      <td>7.8</td>\n",
       "    </tr>\n",
       "  </tbody>\n",
       "</table>\n",
       "</div>"
      ],
      "text/plain": [
       "                 name                  average_rating     \n",
       "                  min              max            min  max\n",
       "season                                                    \n",
       "1            Chestnut    Trompe L'Oeil            7.6  8.7\n",
       "2        Akane No Mai  Virtù e Fortuna            7.6  8.7\n",
       "3       Crisis Theory  The Winter Line            7.5  8.0\n",
       "4       Années Folles         Zhuangzi            7.1  7.8"
      ]
     },
     "execution_count": 139,
     "metadata": {},
     "output_type": "execute_result"
    }
   ],
   "source": [
    "df.groupby(['season'])[['name','average_rating']].aggregate([min,max])"
   ]
  },
  {
   "attachments": {},
   "cell_type": "markdown",
   "metadata": {},
   "source": [
    "- Get the summary for the most popular ( ratings ) episode in every season"
   ]
  },
  {
   "cell_type": "code",
   "execution_count": 138,
   "metadata": {},
   "outputs": [
    {
     "data": {
      "text/html": [
       "<div>\n",
       "<style scoped>\n",
       "    .dataframe tbody tr th:only-of-type {\n",
       "        vertical-align: middle;\n",
       "    }\n",
       "\n",
       "    .dataframe tbody tr th {\n",
       "        vertical-align: top;\n",
       "    }\n",
       "\n",
       "    .dataframe thead th {\n",
       "        text-align: right;\n",
       "    }\n",
       "</style>\n",
       "<table border=\"1\" class=\"dataframe\">\n",
       "  <thead>\n",
       "    <tr style=\"text-align: right;\">\n",
       "      <th></th>\n",
       "      <th>summary</th>\n",
       "      <th>average_rating</th>\n",
       "    </tr>\n",
       "    <tr>\n",
       "      <th>season</th>\n",
       "      <th></th>\n",
       "      <th></th>\n",
       "    </tr>\n",
       "  </thead>\n",
       "  <tbody>\n",
       "    <tr>\n",
       "      <th>1</th>\n",
       "      <td>While William and Dolores travel to the unclai...</td>\n",
       "      <td>8.7</td>\n",
       "    </tr>\n",
       "    <tr>\n",
       "      <th>2</th>\n",
       "      <td>William pays his recuperating father-in-law se...</td>\n",
       "      <td>8.7</td>\n",
       "    </tr>\n",
       "    <tr>\n",
       "      <th>3</th>\n",
       "      <td>Time to face the music. Dolores' true intentio...</td>\n",
       "      <td>8.0</td>\n",
       "    </tr>\n",
       "    <tr>\n",
       "      <th>4</th>\n",
       "      <td>You want to have a drink at a time like this?</td>\n",
       "      <td>7.8</td>\n",
       "    </tr>\n",
       "  </tbody>\n",
       "</table>\n",
       "</div>"
      ],
      "text/plain": [
       "                                                  summary  average_rating\n",
       "season                                                                   \n",
       "1       While William and Dolores travel to the unclai...             8.7\n",
       "2       William pays his recuperating father-in-law se...             8.7\n",
       "3       Time to face the music. Dolores' true intentio...             8.0\n",
       "4           You want to have a drink at a time like this?             7.8"
      ]
     },
     "execution_count": 138,
     "metadata": {},
     "output_type": "execute_result"
    }
   ],
   "source": [
    "df.groupby(['season'])[['summary','average_rating']].max()"
   ]
  },
  {
   "cell_type": "code",
   "execution_count": null,
   "metadata": {},
   "outputs": [],
   "source": []
  },
  {
   "cell_type": "code",
   "execution_count": null,
   "metadata": {},
   "outputs": [],
   "source": []
  }
 ],
 "metadata": {
  "kernelspec": {
   "display_name": "Python 3",
   "language": "python",
   "name": "python3"
  },
  "language_info": {
   "codemirror_mode": {
    "name": "ipython",
    "version": 3
   },
   "file_extension": ".py",
   "mimetype": "text/x-python",
   "name": "python",
   "nbconvert_exporter": "python",
   "pygments_lexer": "ipython3",
   "version": "3.8.1"
  },
  "orig_nbformat": 4
 },
 "nbformat": 4,
 "nbformat_minor": 2
}
