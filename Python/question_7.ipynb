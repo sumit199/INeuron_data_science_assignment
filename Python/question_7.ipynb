{
 "cells": [
  {
   "cell_type": "code",
   "execution_count": 1,
   "metadata": {},
   "outputs": [],
   "source": [
    "import pandas as pd"
   ]
  },
  {
   "cell_type": "code",
   "execution_count": 7,
   "metadata": {},
   "outputs": [],
   "source": [
    "df = pd.read_csv('G:\\INeuron_data_science_assignment\\po.csv')"
   ]
  },
  {
   "cell_type": "code",
   "execution_count": 8,
   "metadata": {},
   "outputs": [
    {
     "data": {
      "text/html": [
       "<div>\n",
       "<style scoped>\n",
       "    .dataframe tbody tr th:only-of-type {\n",
       "        vertical-align: middle;\n",
       "    }\n",
       "\n",
       "    .dataframe tbody tr th {\n",
       "        vertical-align: top;\n",
       "    }\n",
       "\n",
       "    .dataframe thead th {\n",
       "        text-align: right;\n",
       "    }\n",
       "</style>\n",
       "<table border=\"1\" class=\"dataframe\">\n",
       "  <thead>\n",
       "    <tr style=\"text-align: right;\">\n",
       "      <th></th>\n",
       "      <th>id</th>\n",
       "      <th>name</th>\n",
       "      <th>nametype</th>\n",
       "      <th>recclass</th>\n",
       "      <th>mass</th>\n",
       "      <th>year</th>\n",
       "      <th>reclat</th>\n",
       "      <th>reclong</th>\n",
       "      <th>coordinates</th>\n",
       "    </tr>\n",
       "  </thead>\n",
       "  <tbody>\n",
       "    <tr>\n",
       "      <th>0</th>\n",
       "      <td>1</td>\n",
       "      <td>Aachen</td>\n",
       "      <td>Valid</td>\n",
       "      <td>L5</td>\n",
       "      <td>21.0</td>\n",
       "      <td>1880-01-01</td>\n",
       "      <td>50.77500</td>\n",
       "      <td>6.08333</td>\n",
       "      <td>[6, 50]</td>\n",
       "    </tr>\n",
       "    <tr>\n",
       "      <th>1</th>\n",
       "      <td>2</td>\n",
       "      <td>Aarhus</td>\n",
       "      <td>Valid</td>\n",
       "      <td>H6</td>\n",
       "      <td>720.0</td>\n",
       "      <td>1951-01-01</td>\n",
       "      <td>56.18333</td>\n",
       "      <td>10.23333</td>\n",
       "      <td>[10, 56]</td>\n",
       "    </tr>\n",
       "    <tr>\n",
       "      <th>2</th>\n",
       "      <td>6</td>\n",
       "      <td>Abee</td>\n",
       "      <td>Valid</td>\n",
       "      <td>EH4</td>\n",
       "      <td>107000.0</td>\n",
       "      <td>1952-01-01</td>\n",
       "      <td>54.21667</td>\n",
       "      <td>-113.00000</td>\n",
       "      <td>[-113, 54]</td>\n",
       "    </tr>\n",
       "    <tr>\n",
       "      <th>3</th>\n",
       "      <td>10</td>\n",
       "      <td>Acapulco</td>\n",
       "      <td>Valid</td>\n",
       "      <td>Acapulcoite</td>\n",
       "      <td>1914.0</td>\n",
       "      <td>1976-01-01</td>\n",
       "      <td>16.88333</td>\n",
       "      <td>-99.90000</td>\n",
       "      <td>[-99, 16]</td>\n",
       "    </tr>\n",
       "    <tr>\n",
       "      <th>4</th>\n",
       "      <td>370</td>\n",
       "      <td>Achiras</td>\n",
       "      <td>Valid</td>\n",
       "      <td>L6</td>\n",
       "      <td>780.0</td>\n",
       "      <td>1902-01-01</td>\n",
       "      <td>-33.16667</td>\n",
       "      <td>-64.95000</td>\n",
       "      <td>[-64, -33]</td>\n",
       "    </tr>\n",
       "  </tbody>\n",
       "</table>\n",
       "</div>"
      ],
      "text/plain": [
       "    id      name nametype     recclass      mass        year    reclat  \\\n",
       "0    1    Aachen    Valid           L5      21.0  1880-01-01  50.77500   \n",
       "1    2    Aarhus    Valid           H6     720.0  1951-01-01  56.18333   \n",
       "2    6      Abee    Valid          EH4  107000.0  1952-01-01  54.21667   \n",
       "3   10  Acapulco    Valid  Acapulcoite    1914.0  1976-01-01  16.88333   \n",
       "4  370   Achiras    Valid           L6     780.0  1902-01-01 -33.16667   \n",
       "\n",
       "     reclong coordinates  \n",
       "0    6.08333     [6, 50]  \n",
       "1   10.23333    [10, 56]  \n",
       "2 -113.00000  [-113, 54]  \n",
       "3  -99.90000   [-99, 16]  \n",
       "4  -64.95000  [-64, -33]  "
      ]
     },
     "execution_count": 8,
     "metadata": {},
     "output_type": "execute_result"
    }
   ],
   "source": [
    "df.head()"
   ]
  },
  {
   "cell_type": "code",
   "execution_count": 12,
   "metadata": {},
   "outputs": [
    {
     "name": "stdout",
     "output_type": "stream",
     "text": [
      "<class 'pandas.core.frame.DataFrame'>\n",
      "RangeIndex: 948 entries, 0 to 947\n",
      "Data columns (total 9 columns):\n",
      " #   Column       Non-Null Count  Dtype  \n",
      "---  ------       --------------  -----  \n",
      " 0   id           948 non-null    int64  \n",
      " 1   name         948 non-null    object \n",
      " 2   nametype     948 non-null    object \n",
      " 3   recclass     948 non-null    object \n",
      " 4   mass         948 non-null    float64\n",
      " 5   year         948 non-null    object \n",
      " 6   reclat       948 non-null    float64\n",
      " 7   reclong      948 non-null    float64\n",
      " 8   coordinates  948 non-null    object \n",
      "dtypes: float64(3), int64(1), object(5)\n",
      "memory usage: 66.8+ KB\n"
     ]
    }
   ],
   "source": [
    "df.info()"
   ]
  },
  {
   "cell_type": "code",
   "execution_count": 9,
   "metadata": {},
   "outputs": [
    {
     "data": {
      "text/plain": [
       "id             0\n",
       "name           0\n",
       "nametype       0\n",
       "recclass       0\n",
       "mass           0\n",
       "year           0\n",
       "reclat         0\n",
       "reclong        0\n",
       "coordinates    0\n",
       "dtype: int64"
      ]
     },
     "execution_count": 9,
     "metadata": {},
     "output_type": "execute_result"
    }
   ],
   "source": [
    "df.isnull().sum()"
   ]
  },
  {
   "attachments": {},
   "cell_type": "markdown",
   "metadata": {},
   "source": [
    " - Get all the Earth meteorites that fell before the year 2000"
   ]
  },
  {
   "cell_type": "code",
   "execution_count": 13,
   "metadata": {},
   "outputs": [],
   "source": [
    "df['year'] = pd.to_datetime(df['year']) #converting to datetime"
   ]
  },
  {
   "cell_type": "code",
   "execution_count": 16,
   "metadata": {},
   "outputs": [
    {
     "data": {
      "text/plain": [
       "0         Aachen\n",
       "1         Aarhus\n",
       "2           Abee\n",
       "3       Acapulco\n",
       "4        Achiras\n",
       "         ...    \n",
       "942     Timochin\n",
       "943     Tirupati\n",
       "945        Tjabe\n",
       "946     Tjerebon\n",
       "947    Tomakovka\n",
       "Name: name, Length: 882, dtype: object"
      ]
     },
     "execution_count": 16,
     "metadata": {},
     "output_type": "execute_result"
    }
   ],
   "source": [
    "df[df['year'].dt.year <2000]['name']"
   ]
  },
  {
   "attachments": {},
   "cell_type": "markdown",
   "metadata": {},
   "source": [
    "- Get all the earth meteorites co-ordinates who fell before the year 1970"
   ]
  },
  {
   "cell_type": "code",
   "execution_count": 18,
   "metadata": {},
   "outputs": [
    {
     "data": {
      "text/plain": [
       "0         [6, 50]\n",
       "1        [10, 56]\n",
       "2      [-113, 54]\n",
       "4      [-64, -33]\n",
       "5        [71, 32]\n",
       "          ...    \n",
       "942      [35, 54]\n",
       "943      [79, 13]\n",
       "945     [111, -7]\n",
       "946     [106, -6]\n",
       "947      [34, 47]\n",
       "Name: coordinates, Length: 739, dtype: object"
      ]
     },
     "execution_count": 18,
     "metadata": {},
     "output_type": "execute_result"
    }
   ],
   "source": [
    "df[df['year'].dt.year < 1970]['coordinates']"
   ]
  },
  {
   "attachments": {},
   "cell_type": "markdown",
   "metadata": {},
   "source": [
    "- Assuming that the mass of the earth meteorites was in kg, get all those whose mass was more\n",
    "than 10000kg"
   ]
  },
  {
   "cell_type": "code",
   "execution_count": 20,
   "metadata": {},
   "outputs": [
    {
     "data": {
      "text/plain": [
       "2            Abee\n",
       "7            Agen\n",
       "11            Aïr\n",
       "15        Akyumak\n",
       "26     Alfianello\n",
       "          ...    \n",
       "939     Tieschitz\n",
       "940        Tilden\n",
       "942      Timochin\n",
       "945         Tjabe\n",
       "946      Tjerebon\n",
       "Name: name, Length: 237, dtype: object"
      ]
     },
     "execution_count": 20,
     "metadata": {},
     "output_type": "execute_result"
    }
   ],
   "source": [
    "df[df['mass']>10000]['name']"
   ]
  },
  {
   "cell_type": "code",
   "execution_count": null,
   "metadata": {},
   "outputs": [],
   "source": []
  }
 ],
 "metadata": {
  "kernelspec": {
   "display_name": "Python 3",
   "language": "python",
   "name": "python3"
  },
  "language_info": {
   "codemirror_mode": {
    "name": "ipython",
    "version": 3
   },
   "file_extension": ".py",
   "mimetype": "text/x-python",
   "name": "python",
   "nbconvert_exporter": "python",
   "pygments_lexer": "ipython3",
   "version": "3.8.1"
  },
  "orig_nbformat": 4
 },
 "nbformat": 4,
 "nbformat_minor": 2
}
